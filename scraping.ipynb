{
 "cells": [
  {
   "cell_type": "code",
   "execution_count": 2,
   "metadata": {},
   "outputs": [],
   "source": [
    "#Importing libraries\n",
    "from bs4 import BeautifulSoup\n",
    "import requests\n",
    "import time\n",
    "import datetime\n",
    "import csv\n",
    "import pandas as pd"
   ]
  },
  {
   "cell_type": "code",
   "execution_count": 3,
   "metadata": {},
   "outputs": [],
   "source": [
    "#Page URL\n",
    "url = 'https://www.amazon.in/Zebronics-ZEB-NC3300-Powered-Laptop-Cooling/dp/B07YWS9SP9/ref=sr_1_3?crid=22ES5AC0SGOSC&keywords=laptop%2Bcooling%2Bpad&qid=1682074391&sprefix=%2Caps%2C240&sr=8-3&th=1'"
   ]
  },
  {
   "cell_type": "code",
   "execution_count": 4,
   "metadata": {},
   "outputs": [],
   "source": [
    "#System header\n",
    "headers = {\"User-Agent\": \"Mozilla/5.0 (Windows NT 10.0; Win64; x64) AppleWebKit/537.36 (KHTML, like Gecko) Chrome/112.0.0.0 Safari/537.36\", \"Accept-Encoding\":\"gzip, deflate, br\", \"Accept\":\"text/html,application/xhtml+xml,application/xml;q=0.9,image/avif,image/webp,image/apng,*/*;q=0.8,application/signed-exchange;v=b3;q=0.7\", \"Upgrade-Insecure-Requests\":\"1\"}"
   ]
  },
  {
   "cell_type": "code",
   "execution_count": 6,
   "metadata": {},
   "outputs": [],
   "source": [
    "#Fetch the HTML content of the page\n",
    "page = requests.get(url, headers=headers)"
   ]
  },
  {
   "cell_type": "code",
   "execution_count": 20,
   "metadata": {},
   "outputs": [],
   "source": [
    "#BeautifulSoup object with the content of the response and the html.parser parser\n",
    "soup1 = BeautifulSoup(page.content, \"html.parser\")\n",
    "soup2 = BeautifulSoup(soup1.prettify(), \"html.parser\")\n",
    "#soup2"
   ]
  },
  {
   "cell_type": "code",
   "execution_count": 8,
   "metadata": {},
   "outputs": [
    {
     "data": {
      "text/plain": [
       "'Zebronics, ZEB-NC3300 USB Powered Laptop Cooling Pad with Dual Fan, Dual USB Port and Blue LED Lights'"
      ]
     },
     "execution_count": 8,
     "metadata": {},
     "output_type": "execute_result"
    }
   ],
   "source": [
    "#Product Title\n",
    "title = soup2.find(id='productTitle').get_text()\n",
    "title = title.strip()\n",
    "title"
   ]
  },
  {
   "cell_type": "code",
   "execution_count": 9,
   "metadata": {},
   "outputs": [
    {
     "data": {
      "text/plain": [
       "599.0"
      ]
     },
     "execution_count": 9,
     "metadata": {},
     "output_type": "execute_result"
    }
   ],
   "source": [
    "#Product Price\n",
    "price_element = soup2.find('span', {'class': 'a-price-whole'}).get_text()\n",
    "fraction_element = soup2.find('span', {'class': 'a-price-fraction'}).get_text()\n",
    "remove_char = ['\\n','.']\n",
    "for char in remove_char:\n",
    "    price_element = price_element.replace(char, '')\n",
    "    fraction_element = fraction_element.replace(char, '')\n",
    "price_element = price_element.strip()\n",
    "fraction_element = fraction_element.strip()\n",
    "price = float(price_element + '.' + fraction_element)\n",
    "price"
   ]
  },
  {
   "cell_type": "code",
   "execution_count": 10,
   "metadata": {},
   "outputs": [
    {
     "data": {
      "text/plain": [
       "3.9"
      ]
     },
     "execution_count": 10,
     "metadata": {},
     "output_type": "execute_result"
    }
   ],
   "source": [
    "#Product Rating\n",
    "rating = soup2.find('span', {'class': 'a-icon-alt'}).get_text()\n",
    "rating = rating.strip()\n",
    "rating = float(rating[:3])\n",
    "rating"
   ]
  },
  {
   "cell_type": "code",
   "execution_count": 11,
   "metadata": {},
   "outputs": [
    {
     "data": {
      "text/plain": [
       "datetime.date(2023, 4, 21)"
      ]
     },
     "execution_count": 11,
     "metadata": {},
     "output_type": "execute_result"
    }
   ],
   "source": [
    "#Date\n",
    "today = datetime.date.today()\n",
    "today"
   ]
  },
  {
   "cell_type": "code",
   "execution_count": 12,
   "metadata": {},
   "outputs": [],
   "source": [
    "#Create CSV and write headers and data into the file\n",
    "header = ['Title', 'Price', 'Rating', 'Date']\n",
    "data = [title, price, rating, today]\n",
    "\n",
    "with open('AmazonWebScraperDataset.csv', 'w', newline='', encoding='UTF8') as f:\n",
    "    writer = csv.writer(f)\n",
    "    writer.writerow(header)\n",
    "    writer.writerow(data)"
   ]
  },
  {
   "cell_type": "code",
   "execution_count": 13,
   "metadata": {},
   "outputs": [
    {
     "data": {
      "text/html": [
       "<div>\n",
       "<style scoped>\n",
       "    .dataframe tbody tr th:only-of-type {\n",
       "        vertical-align: middle;\n",
       "    }\n",
       "\n",
       "    .dataframe tbody tr th {\n",
       "        vertical-align: top;\n",
       "    }\n",
       "\n",
       "    .dataframe thead th {\n",
       "        text-align: right;\n",
       "    }\n",
       "</style>\n",
       "<table border=\"1\" class=\"dataframe\">\n",
       "  <thead>\n",
       "    <tr style=\"text-align: right;\">\n",
       "      <th></th>\n",
       "      <th>Title</th>\n",
       "      <th>Price</th>\n",
       "      <th>Rating</th>\n",
       "      <th>Date</th>\n",
       "    </tr>\n",
       "  </thead>\n",
       "  <tbody>\n",
       "    <tr>\n",
       "      <th>0</th>\n",
       "      <td>Zebronics, ZEB-NC3300 USB Powered Laptop Cooli...</td>\n",
       "      <td>599.0</td>\n",
       "      <td>3.9</td>\n",
       "      <td>2023-04-21</td>\n",
       "    </tr>\n",
       "  </tbody>\n",
       "</table>\n",
       "</div>"
      ],
      "text/plain": [
       "                                               Title  Price  Rating  \\\n",
       "0  Zebronics, ZEB-NC3300 USB Powered Laptop Cooli...  599.0     3.9   \n",
       "\n",
       "         Date  \n",
       "0  2023-04-21  "
      ]
     },
     "execution_count": 13,
     "metadata": {},
     "output_type": "execute_result"
    }
   ],
   "source": [
    "#Read CSV as DataFrame\n",
    "df = pd.read_csv('AmazonWebScraperDataset.csv')\n",
    "df"
   ]
  },
  {
   "cell_type": "code",
   "execution_count": 14,
   "metadata": {},
   "outputs": [],
   "source": [
    "# #Append data to the csv\n",
    "# with open('AmazonWebScraperDataset.csv', 'a+', newline='', encoding='UTF8') as f:\n",
    "#     writer = csv.writer(f)\n",
    "#     writer.writerow(data)"
   ]
  },
  {
   "cell_type": "code",
   "execution_count": 15,
   "metadata": {},
   "outputs": [],
   "source": [
    "#Define Function\n",
    "def check_price():\n",
    "    url = 'https://www.amazon.in/Zebronics-ZEB-NC3300-Powered-Laptop-Cooling/dp/B07YWS9SP9/ref=sr_1_3?crid=22ES5AC0SGOSC&keywords=laptop%2Bcooling%2Bpad&qid=1682074391&sprefix=%2Caps%2C240&sr=8-3&th=1'\n",
    "    headers = {\"User-Agent\": \"Mozilla/5.0 (Windows NT 10.0; Win64; x64) AppleWebKit/537.36 (KHTML, like Gecko) Chrome/112.0.0.0 Safari/537.36\", \"Accept-Encoding\":\"gzip, deflate, br\", \"Accept\":\"text/html,application/xhtml+xml,application/xml;q=0.9,image/avif,image/webp,image/apng,*/*;q=0.8,application/signed-exchange;v=b3;q=0.7\", \"Upgrade-Insecure-Requests\":\"1\"}\n",
    "    page = requests.get(url, headers=headers)\n",
    "    soup1 = BeautifulSoup(page.content, \"html.parser\")\n",
    "    soup2 = BeautifulSoup(soup1.prettify(), \"html.parser\")\n",
    "    title = soup2.find(id='productTitle').get_text()\n",
    "    title = title.strip()\n",
    "    price_element = soup2.find('span', {'class': 'a-price-whole'}).get_text()\n",
    "    fraction_element = soup2.find('span', {'class': 'a-price-fraction'}).get_text()\n",
    "    remove_char = ['\\n','.']\n",
    "    for char in remove_char:\n",
    "        price_element = price_element.replace(char, '')\n",
    "        fraction_element = fraction_element.replace(char, '')\n",
    "    price_element = price_element.strip()\n",
    "    fraction_element = fraction_element.strip()\n",
    "    price = float(price_element + '.' + fraction_element)\n",
    "    rating = soup2.find('span', {'class': 'a-icon-alt'}).get_text()\n",
    "    rating = rating.strip()\n",
    "    rating = float(rating[:3])\n",
    "    today = datetime.date.today()\n",
    "    data = [title, price, rating, today]\n",
    "    with open('AmazonWebScraperDataset.csv', 'a+', newline='', encoding='UTF8') as f:\n",
    "        writer = csv.writer(f)\n",
    "        writer.writerow(data)"
   ]
  },
  {
   "cell_type": "code",
   "execution_count": 16,
   "metadata": {},
   "outputs": [],
   "source": [
    "#Daily append price data to csv\n",
    "#1day=60sec*60min*24hrs=86400seconds\n",
    "\n",
    "while(True):\n",
    "    check_price()\n",
    "    time.sleep(86400)"
   ]
  },
  {
   "cell_type": "code",
   "execution_count": 19,
   "metadata": {},
   "outputs": [
    {
     "data": {
      "text/html": [
       "<div>\n",
       "<style scoped>\n",
       "    .dataframe tbody tr th:only-of-type {\n",
       "        vertical-align: middle;\n",
       "    }\n",
       "\n",
       "    .dataframe tbody tr th {\n",
       "        vertical-align: top;\n",
       "    }\n",
       "\n",
       "    .dataframe thead th {\n",
       "        text-align: right;\n",
       "    }\n",
       "</style>\n",
       "<table border=\"1\" class=\"dataframe\">\n",
       "  <thead>\n",
       "    <tr style=\"text-align: right;\">\n",
       "      <th></th>\n",
       "      <th>Title</th>\n",
       "      <th>Price</th>\n",
       "      <th>Rating</th>\n",
       "      <th>Date</th>\n",
       "    </tr>\n",
       "  </thead>\n",
       "  <tbody>\n",
       "    <tr>\n",
       "      <th>0</th>\n",
       "      <td>Zebronics, ZEB-NC3300 USB Powered Laptop Cooli...</td>\n",
       "      <td>599.0</td>\n",
       "      <td>3.9</td>\n",
       "      <td>2023-04-21</td>\n",
       "    </tr>\n",
       "    <tr>\n",
       "      <th>1</th>\n",
       "      <td>Zebronics, ZEB-NC3300 USB Powered Laptop Cooli...</td>\n",
       "      <td>599.0</td>\n",
       "      <td>3.9</td>\n",
       "      <td>2023-04-21</td>\n",
       "    </tr>\n",
       "  </tbody>\n",
       "</table>\n",
       "</div>"
      ],
      "text/plain": [
       "                                               Title  Price  Rating  \\\n",
       "0  Zebronics, ZEB-NC3300 USB Powered Laptop Cooli...  599.0     3.9   \n",
       "1  Zebronics, ZEB-NC3300 USB Powered Laptop Cooli...  599.0     3.9   \n",
       "\n",
       "         Date  \n",
       "0  2023-04-21  \n",
       "1  2023-04-21  "
      ]
     },
     "execution_count": 19,
     "metadata": {},
     "output_type": "execute_result"
    }
   ],
   "source": [
    "#Read CSV as DataFrame\n",
    "df = pd.read_csv('AmazonWebScraperDataset.csv')\n",
    "df"
   ]
  },
  {
   "cell_type": "code",
   "execution_count": null,
   "metadata": {},
   "outputs": [],
   "source": []
  }
 ],
 "metadata": {
  "kernelspec": {
   "display_name": "Python 3",
   "language": "python",
   "name": "python3"
  },
  "language_info": {
   "codemirror_mode": {
    "name": "ipython",
    "version": 3
   },
   "file_extension": ".py",
   "mimetype": "text/x-python",
   "name": "python",
   "nbconvert_exporter": "python",
   "pygments_lexer": "ipython3",
   "version": "3.11.1"
  },
  "orig_nbformat": 4
 },
 "nbformat": 4,
 "nbformat_minor": 2
}
